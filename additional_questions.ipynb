{
 "cells": [
  {
   "cell_type": "markdown",
   "id": "735ed418-89c5-4e26-b58b-02ee054854ac",
   "metadata": {},
   "source": [
    "## **Algorithm Understanding**"
   ]
  },
  {
   "cell_type": "markdown",
   "id": "34134348-0261-4e0b-8c2e-6956c0a39b6a",
   "metadata": {},
   "source": [
    "How does the Prophet Algorithm differ from an LSTM?\n",
    "- Prophet requires less hyperparameter tuning as it is specifically designed to detect patterns in business time series.\n",
    "- LSTM does not rely on specific assumptions about the data such as time series stationarity or the existence of a Date field. "
   ]
  },
  {
   "cell_type": "raw",
   "id": "cc61fc00-5835-4304-9a83-2f74a46e5f4d",
   "metadata": {},
   "source": []
  },
  {
   "cell_type": "markdown",
   "id": "5a3a03f7-7971-4008-9157-245b73de5ae6",
   "metadata": {},
   "source": [
    "Why does an LSTM have poor performance against ARIMA and Prophet for Time Series?\n",
    "- can take a long time to run,\n",
    "- often require more data to train than the other models, and\n",
    "- have lots of input parameters to tune\n"
   ]
  },
  {
   "cell_type": "markdown",
   "id": "2d8a22f8-bdc7-4de4-90fe-2ac86fb4be89",
   "metadata": {},
   "source": [
    "## **Interview Readiness**"
   ]
  },
  {
   "cell_type": "markdown",
   "id": "3db264e2-0a20-4ade-828d-c45452305ec5",
   "metadata": {},
   "source": [
    "What is exponential smoothing and why is it used in Time Series Forecasting?\n",
    "- Exponential smoothing is a forecasting method for univariate time series data. This method uses weighted averages of past observations to forecast new values. The idea is to give more importance to recent values in the series. Thus, as observations get older in time, the importance of these values get exponentially smaller. Exponential smoothing extend the analysis to model data with trends and seasonal components."
   ]
  },
  {
   "cell_type": "raw",
   "id": "8e19dfe9-bb79-4d10-bd82-10e5c803ba3e",
   "metadata": {},
   "source": []
  },
  {
   "cell_type": "markdown",
   "id": "5d9e6929-0db0-4fb9-a23a-3db4c6edd3ac",
   "metadata": {},
   "source": [
    "What is stationarity? What is seasonality? Why Is Stationarity Important in Time Series Forecasting?\n",
    "- A stationary time series is one whose properties (mean, variance etc.) do not depend on the time at which the series is observed. Thus, time series with trends, or with seasonality, are not stationary — the trend and seasonality will affect the value of the time series at different times.\n",
    "\n",
    "- Seasonality is a characteristic of a time series in which there exists regular and predictable changes that recur every calendar year. Any predictable fluctuation or pattern that recurs or repeats over a one-year period is said to be seasonal.\n",
    "\n",
    "- Stationarity is important in Time Series Forecasting because, in its absence, a model describing the data will vary in accuracy at different time points. As such, stationarity is required for sample statistics such as means, variances, and correlations to accurately describe the data at all time points of interest."
   ]
  },
  {
   "cell_type": "raw",
   "id": "e235bcc5-afb9-4cf4-aaa2-2f05fb5344e6",
   "metadata": {},
   "source": []
  },
  {
   "cell_type": "markdown",
   "id": "26a66fa0-a41c-4ba2-b925-3d03c0062e5f",
   "metadata": {},
   "source": [
    "How is seasonality different from cyclicality?  **Seasonality** is predictable, whereas **Cyclicality** is not."
   ]
  },
  {
   "cell_type": "raw",
   "id": "905fe126-d53d-4ce3-95f4-445ce3f5755c",
   "metadata": {},
   "source": []
  }
 ],
 "metadata": {
  "kernelspec": {
   "display_name": "Python 3 (ipykernel)",
   "language": "python",
   "name": "python3"
  },
  "language_info": {
   "codemirror_mode": {
    "name": "ipython",
    "version": 3
   },
   "file_extension": ".py",
   "mimetype": "text/x-python",
   "name": "python",
   "nbconvert_exporter": "python",
   "pygments_lexer": "ipython3",
   "version": "3.9.7"
  }
 },
 "nbformat": 4,
 "nbformat_minor": 5
}
