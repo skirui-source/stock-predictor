{
 "cells": [
  {
   "cell_type": "markdown",
   "id": "5770552e-0257-485a-b46d-9b2b1adc90fd",
   "metadata": {},
   "source": [
    "## **Interview Readiness**"
   ]
  },
  {
   "cell_type": "markdown",
   "id": "58ee1b30-dd47-4b30-ab5a-3e98b1e9e6f7",
   "metadata": {},
   "source": [
    "What does it mean to create a Docker image and why do we use Docker images?\n",
    "- A Docker image is a read-only template that contains a set of instructions for creating a container that can run on the Docker platform. It provides a convenient way to package up applications and preconfigured server environments, which can be used for  private  or public use\n"
   ]
  },
  {
   "cell_type": "raw",
   "id": "0f2c8e8d-1b48-4df4-9376-c7646138d13d",
   "metadata": {},
   "source": []
  },
  {
   "cell_type": "markdown",
   "id": "3c7b32f6-f6be-4890-9377-d9705f33f78c",
   "metadata": {},
   "source": [
    "Please explain what is the difference from a Container vs a Virtual Machine?\n",
    "- Virtual Machine: runs on top of an emulating software called the hypervisor which sit between the hardware and the virtual machine. The hypervisor manages the sharing of physical resources into virtual machines.\n",
    "- Container:sits on the top of a physical server and its host operating system.\n",
    "- Applications running on VM system can run different OS While applications running in a container environment share a single OS.\n",
    "- Containers provide a way to virtualize an OS so that multiple workloads can run on a single OS instance. With VMs, the hardware is being virtualized to run multiple OS instances.\n"
   ]
  },
  {
   "cell_type": "raw",
   "id": "4fbf1d11-f522-46fb-8180-a62bd5c79001",
   "metadata": {},
   "source": []
  },
  {
   "cell_type": "markdown",
   "id": "e791e09b-6351-4cc8-b348-54986239882f",
   "metadata": {},
   "source": [
    "What are 5 examples of container orchestration tools (please list tools)?\n",
    "- Kubernetes \n",
    "- Red hat Openshift\n",
    "- Docker Swarm \n",
    "- Apache Mesos\n",
    "- Amazon ECS (Elastic container service) \n",
    "- Google Kubernetes Engine "
   ]
  },
  {
   "cell_type": "raw",
   "id": "9b6d5b90-a4ea-496a-8724-3abe8f611cfe",
   "metadata": {},
   "source": []
  },
  {
   "cell_type": "markdown",
   "id": "61cf5889-4f2d-4c03-8b22-86f0054a0e46",
   "metadata": {},
   "source": [
    "How does a Docker image differ from a Docker container?\n",
    "- A Docker image is a template that defines how a container will be realized. A Docker container is a runtime instance of a Docker image"
   ]
  },
  {
   "cell_type": "raw",
   "id": "ce2b3d5a-38e2-4b6a-b378-271f8b32a5ce",
   "metadata": {},
   "source": []
  }
 ],
 "metadata": {
  "kernelspec": {
   "display_name": "Python 3 (ipykernel)",
   "language": "python",
   "name": "python3"
  },
  "language_info": {
   "codemirror_mode": {
    "name": "ipython",
    "version": 3
   },
   "file_extension": ".py",
   "mimetype": "text/x-python",
   "name": "python",
   "nbconvert_exporter": "python",
   "pygments_lexer": "ipython3",
   "version": "3.9.7"
  }
 },
 "nbformat": 4,
 "nbformat_minor": 5
}
